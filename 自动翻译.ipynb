{
 "cells": [
  {
   "cell_type": "markdown",
   "metadata": {
    "colab_type": "text",
    "id": "view-in-github"
   },
   "source": [
    "<a href=\"https://colab.research.google.com/github/zs856/Works-on-a-whim/blob/main/%E8%87%AA%E5%8A%A8%E7%BF%BB%E8%AF%91.ipynb\" target=\"_parent\"><img src=\"https://colab.research.google.com/assets/colab-badge.svg\" alt=\"Open In Colab\"/></a>"
   ]
  },
  {
   "cell_type": "code",
   "execution_count": 1,
   "metadata": {
    "id": "MzmRIE6shiU4"
   },
   "outputs": [],
   "source": [
    "import pandas as pd"
   ]
  },
  {
   "cell_type": "code",
   "execution_count": 2,
   "metadata": {
    "id": "PCpqF4l1WuSr"
   },
   "outputs": [],
   "source": [
    "# 选择数据源\n",
    "excel_path = ''\n",
    "# 生成dataframe\n",
    "pdf = pd.read_excel(excel_path,sheet_name=0, header=0)\n"
   ]
  },
  {
   "cell_type": "code",
   "execution_count": null,
   "metadata": {
    "id": "EGF1LMACoLCz"
   },
   "outputs": [],
   "source": [
    "# 发送百度api请求\n",
    "def send_text_to_baidu(url):\n",
    "  result = None\n",
    "  try:\n",
    "    httpClient = http.client.HTTPConnection('api.fanyi.baidu.com')\n",
    "    httpClient.request('GET', url)\n",
    "\n",
    "    # response是HTTPResponse对象\n",
    "    response = httpClient.getresponse()\n",
    "    result_all = response.read().decode(\"utf-8\")\n",
    "    #print(result_all)\n",
    "    \n",
    "    result = json.loads(result_all)\n",
    "\n",
    "  except Exception as e:\n",
    "    print (e)\n",
    "  finally:\n",
    "    if httpClient:\n",
    "        httpClient.close()\n",
    "    return result"
   ]
  },
  {
   "cell_type": "code",
   "execution_count": null,
   "metadata": {
    "id": "vDYfGSYdolAQ"
   },
   "outputs": [],
   "source": [
    "#百度垂直领域翻译API,不包含词典、tts语音合成等资源，如有相关需求请联系translate_api@baidu.com\n",
    "# 2020.07.28 更新，原url拼接错误，感谢热心网友指正\n",
    "# coding=utf-8\n",
    "\n",
    "import http.client\n",
    "import hashlib\n",
    "import urllib\n",
    "import random\n",
    "import json\n",
    "import math\n",
    "appid = ''  # 填写你的appid\n",
    "secretKey = ''  # 填写你的密钥\n",
    "fromLang = 'auto'   #原文语种\n",
    "toLang = 'zh'   #译文语种\n",
    "\n",
    "\n",
    "\n"
   ]
  },
  {
   "cell_type": "code",
   "execution_count": null,
   "metadata": {
    "colab": {
     "background_save": true
    },
    "id": "G-m9satkt9KR",
    "scrolled": false
   },
   "outputs": [],
   "source": [
    "%time\n",
    "start_col = 1000\n",
    "end_col = 2000\n",
    "for col in range(start_col,end_col+1):\n",
    "  if type(pdf.iloc[col].zh)==str:\n",
    "    continue\n",
    "  httpClient = None\n",
    "  myurl = '/api/trans/vip/fieldtranslate'\n",
    "  salt = random.randint(32768, 65536)\n",
    "  dicts = []\n",
    "  res = None\n",
    "  en_text = pdf.iloc[col].fulltext\n",
    "  q= en_text\n",
    "  print(\"-------\"+str(col)+\"-----------\")\n",
    "  print(q)\n",
    "  domain = 'medicine'\n",
    "  sign = appid + q + str(salt) + domain + secretKey\n",
    "  sign = hashlib.md5(sign.encode()).hexdigest()\n",
    "  myurl = myurl + '?appid=' + appid + '&q=' + urllib.parse.quote(q) + '&from=' + fromLang + '&to=' + toLang + '&salt=' + str(salt) + '&domain=' + domain + '&sign=' + sign\n",
    "  res = send_text_to_baidu(myurl)\n",
    "  \n",
    "  if res is None:\n",
    "    print(res)\n",
    "    continue\n",
    "  try:\n",
    "    print(res['trans_result'][0]['dst'])\n",
    "    pdf.iloc[col,9] = res['trans_result'][0]['dst']\n",
    "  except Exception as e:\n",
    "    print (e)\n",
    "  #pdf.iloc[col,9] = res \n"
   ]
  },
  {
   "cell_type": "code",
   "execution_count": null,
   "metadata": {
    "id": "xxhWKYBep51j"
   },
   "outputs": [],
   "source": [
    "# 选择你要输出的位置\n",
    "excel_path = '/content/drive/MyDrive/notebook/out.xlsx'\n",
    "pdf.to_excel(excel_path,columns=pdf.columns.tolist())"
   ]
  },
  {
   "cell_type": "code",
   "execution_count": null,
   "metadata": {},
   "outputs": [],
   "source": []
  }
 ],
 "metadata": {
  "colab": {
   "authorship_tag": "ABX9TyP6Tei8OQqaI9ezPSKwC1jd",
   "collapsed_sections": [],
   "include_colab_link": true,
   "mount_file_id": "1uXD0F8i5cXc5gLUVsWt2pymS136Fcbeh",
   "name": "自动翻译.ipynb",
   "provenance": []
  },
  "kernelspec": {
   "display_name": "Python 3",
   "language": "python",
   "name": "python3"
  },
  "language_info": {
   "codemirror_mode": {
    "name": "ipython",
    "version": 3
   },
   "file_extension": ".py",
   "mimetype": "text/x-python",
   "name": "python",
   "nbconvert_exporter": "python",
   "pygments_lexer": "ipython3",
   "version": "3.9.2"
  }
 },
 "nbformat": 4,
 "nbformat_minor": 1
}