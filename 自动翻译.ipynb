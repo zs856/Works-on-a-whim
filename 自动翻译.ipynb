{
  "nbformat": 4,
  "nbformat_minor": 0,
  "metadata": {
    "colab": {
      "name": "自动翻译.ipynb",
      "provenance": [],
      "collapsed_sections": [],
      "mount_file_id": "1uXD0F8i5cXc5gLUVsWt2pymS136Fcbeh",
      "authorship_tag": "ABX9TyP6Tei8OQqaI9ezPSKwC1jd",
      "include_colab_link": true
    },
    "kernelspec": {
      "display_name": "Python 3",
      "name": "python3"
    },
    "language_info": {
      "name": "python"
    }
  },
  "cells": [
    {
      "cell_type": "markdown",
      "metadata": {
        "id": "view-in-github",
        "colab_type": "text"
      },
      "source": [
        "<a href=\"https://colab.research.google.com/github/zs856/Works-on-a-whim/blob/main/%E8%87%AA%E5%8A%A8%E7%BF%BB%E8%AF%91.ipynb\" target=\"_parent\"><img src=\"https://colab.research.google.com/assets/colab-badge.svg\" alt=\"Open In Colab\"/></a>"
      ]
    },
    {
      "cell_type": "code",
      "metadata": {
        "id": "MzmRIE6shiU4"
      },
      "source": [
        "import pandas as pd"
      ],
      "execution_count": null,
      "outputs": []
    },
    {
      "cell_type": "code",
      "metadata": {
        "id": "PCpqF4l1WuSr"
      },
      "source": [
        "excel_path = '/content/drive/MyDrive/notebook/Copy of NSAID_forlabelling_twitter_2_3000.xlsx'\n",
        "pdf = pd.read_excel(excel_path,sheet_name=0, header=0)\n"
      ],
      "execution_count": null,
      "outputs": []
    },
    {
      "cell_type": "code",
      "metadata": {
        "id": "EGF1LMACoLCz"
      },
      "source": [
        "def send_text_to_baidu(url):\n",
        "  print(url)\n",
        "  result = None\n",
        "  try:\n",
        "    httpClient = http.client.HTTPConnection('api.fanyi.baidu.com')\n",
        "    httpClient.request('GET', url)\n",
        "\n",
        "    # response是HTTPResponse对象\n",
        "    response = httpClient.getresponse()\n",
        "    result_all = response.read().decode(\"utf-8\")\n",
        "    print(result_all)\n",
        "    result = json.loads(result_all)\n",
        "\n",
        "  except Exception as e:\n",
        "    print (e)\n",
        "  finally:\n",
        "    if httpClient:\n",
        "        httpClient.close()\n",
        "    return result"
      ],
      "execution_count": null,
      "outputs": []
    },
    {
      "cell_type": "code",
      "metadata": {
        "id": "vDYfGSYdolAQ"
      },
      "source": [
        "#百度垂直领域翻译API,不包含词典、tts语音合成等资源，如有相关需求请联系translate_api@baidu.com\n",
        "# 2020.07.28 更新，原url拼接错误，感谢热心网友指正\n",
        "# coding=utf-8\n",
        "\n",
        "import http.client\n",
        "import hashlib\n",
        "import urllib\n",
        "import random\n",
        "import json\n",
        "import math\n",
        "appid = ''  # 填写你的appid\n",
        "secretKey = ''  # 填写你的密钥\n",
        "\n",
        "httpClient = None\n",
        "myurl = '/api/trans/vip/fieldtranslate'\n",
        "\n",
        "fromLang = 'auto'   #原文语种\n",
        "toLang = 'zh'   #译文语种\n",
        "salt = random.randint(32768, 65536)\n",
        "dicts = []\n",
        "res = None\n",
        "\n",
        "\n"
      ],
      "execution_count": null,
      "outputs": []
    },
    {
      "cell_type": "code",
      "metadata": {
        "colab": {
          "background_save": true
        },
        "id": "G-m9satkt9KR"
      },
      "source": [
        "%time\n",
        "start_col = 1000\n",
        "end_col = 1999\n",
        "for col in range(start_col,end_col+1):\n",
        "  if type(pdf.iloc[col].zh)==str:\n",
        "    continue\n",
        "  en_text = pdf.iloc[col].fulltext\n",
        "  q= en_text\n",
        "  print(\"-------\"+str(col)+\"-----------\")\n",
        "  print(q)\n",
        "  domain = 'medicine'\n",
        "  sign = appid + q + str(salt) + domain + secretKey\n",
        "  sign = hashlib.md5(sign.encode()).hexdigest()\n",
        "  myurl = myurl + '?appid=' + appid + '&q=' + urllib.parse.quote(q) + '&from=' + fromLang + '&to=' + toLang + '&salt=' + str(salt) + '&domain=' + domain + '&sign=' + sign\n",
        "  print(\"开始发送请求\")\n",
        "  res = send_text_to_baidu(myurl)\n",
        "  print(\"结束请求\")\n",
        "  \n",
        "  if res is None:\n",
        "    print(res)\n",
        "    continue\n",
        "  try:\n",
        "    print(res['trans_result'][0]['dst'])\n",
        "    pdf.iloc[col,9] = res['trans_result'][0]['dst']\n",
        "  except Exception as e:\n",
        "    print (e)\n",
        "  #pdf.iloc[col,9] = res \n"
      ],
      "execution_count": null,
      "outputs": []
    },
    {
      "cell_type": "code",
      "metadata": {
        "colab": {
          "base_uri": "https://localhost:8080/"
        },
        "id": "oMG5Y42Gzh2D",
        "outputId": "f11f95de-b3ee-4b90-8bab-607fda57a2ba"
      },
      "source": [
        "pdf.iloc[1060]"
      ],
      "execution_count": null,
      "outputs": [
        {
          "output_type": "execute_result",
          "data": {
            "text/plain": [
              "id                                                              4993\n",
              "url                http://twitter.com/1/statuses/1334418989854777346\n",
              "title              http://twitter.com/1/statuses/1334418989854777346\n",
              "pageType                                                     twitter\n",
              "matchPositions     [{'start': 201, 'text': 'virus', 'length': 5},...\n",
              "classifications    [{'classifierId': 'emotions', 'labelId': 'Disg...\n",
              "sentiment                                                    neutral\n",
              "fulltext           @AggressiveDem @nypost There is nothing unusua...\n",
              "attitude                                                           3\n",
              "zh                            @AggressiveDem@nypost医生将旧药重新用于新目的并不罕见。\n",
              "Name: 1060, dtype: object"
            ]
          },
          "metadata": {
            "tags": []
          },
          "execution_count": 17
        }
      ]
    },
    {
      "cell_type": "code",
      "metadata": {
        "id": "xxhWKYBep51j"
      },
      "source": [
        "excel_path = '/content/drive/MyDrive/notebook/out.xlsx'\n",
        "pdf.to_excel(excel_path,startcol=1)"
      ],
      "execution_count": null,
      "outputs": []
    },
    {
      "cell_type": "code",
      "metadata": {
        "colab": {
          "base_uri": "https://localhost:8080/",
          "height": 343
        },
        "id": "1YA0OkAIpfTB",
        "outputId": "7c971bd1-801e-4a34-dc83-bdb42f2859f1"
      },
      "source": [
        "pdf.iloc[1700:1710,[7,9]]"
      ],
      "execution_count": null,
      "outputs": [
        {
          "output_type": "execute_result",
          "data": {
            "text/html": [
              "<div>\n",
              "<style scoped>\n",
              "    .dataframe tbody tr th:only-of-type {\n",
              "        vertical-align: middle;\n",
              "    }\n",
              "\n",
              "    .dataframe tbody tr th {\n",
              "        vertical-align: top;\n",
              "    }\n",
              "\n",
              "    .dataframe thead th {\n",
              "        text-align: right;\n",
              "    }\n",
              "</style>\n",
              "<table border=\"1\" class=\"dataframe\">\n",
              "  <thead>\n",
              "    <tr style=\"text-align: right;\">\n",
              "      <th></th>\n",
              "      <th>sentiment</th>\n",
              "      <th>attitude</th>\n",
              "    </tr>\n",
              "  </thead>\n",
              "  <tbody>\n",
              "    <tr>\n",
              "      <th>1700</th>\n",
              "      <td>neutral</td>\n",
              "      <td>NaN</td>\n",
              "    </tr>\n",
              "    <tr>\n",
              "      <th>1701</th>\n",
              "      <td>neutral</td>\n",
              "      <td>NaN</td>\n",
              "    </tr>\n",
              "    <tr>\n",
              "      <th>1702</th>\n",
              "      <td>neutral</td>\n",
              "      <td>NaN</td>\n",
              "    </tr>\n",
              "    <tr>\n",
              "      <th>1703</th>\n",
              "      <td>neutral</td>\n",
              "      <td>NaN</td>\n",
              "    </tr>\n",
              "    <tr>\n",
              "      <th>1704</th>\n",
              "      <td>neutral</td>\n",
              "      <td>NaN</td>\n",
              "    </tr>\n",
              "    <tr>\n",
              "      <th>1705</th>\n",
              "      <td>neutral</td>\n",
              "      <td>NaN</td>\n",
              "    </tr>\n",
              "    <tr>\n",
              "      <th>1706</th>\n",
              "      <td>neutral</td>\n",
              "      <td>NaN</td>\n",
              "    </tr>\n",
              "    <tr>\n",
              "      <th>1707</th>\n",
              "      <td>neutral</td>\n",
              "      <td>NaN</td>\n",
              "    </tr>\n",
              "    <tr>\n",
              "      <th>1708</th>\n",
              "      <td>neutral</td>\n",
              "      <td>NaN</td>\n",
              "    </tr>\n",
              "    <tr>\n",
              "      <th>1709</th>\n",
              "      <td>neutral</td>\n",
              "      <td>NaN</td>\n",
              "    </tr>\n",
              "  </tbody>\n",
              "</table>\n",
              "</div>"
            ],
            "text/plain": [
              "     sentiment attitude\n",
              "1700   neutral      NaN\n",
              "1701   neutral      NaN\n",
              "1702   neutral      NaN\n",
              "1703   neutral      NaN\n",
              "1704   neutral      NaN\n",
              "1705   neutral      NaN\n",
              "1706   neutral      NaN\n",
              "1707   neutral      NaN\n",
              "1708   neutral      NaN\n",
              "1709   neutral      NaN"
            ]
          },
          "metadata": {
            "tags": []
          },
          "execution_count": 55
        }
      ]
    },
    {
      "cell_type": "code",
      "metadata": {
        "id": "eRa87-SE4h2e"
      },
      "source": [
        ""
      ],
      "execution_count": null,
      "outputs": []
    }
  ]
}