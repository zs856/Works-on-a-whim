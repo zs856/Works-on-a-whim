{
  "nbformat": 4,
  "nbformat_minor": 0,
  "metadata": {
    "colab": {
      "name": "查自己今年的农历生日.ipynb",
      "provenance": [],
      "authorship_tag": "ABX9TyN1DIo6SRjhCA33Q744Uufg",
      "include_colab_link": true
    },
    "kernelspec": {
      "name": "python3",
      "display_name": "Python 3"
    }
  },
  "cells": [
    {
      "cell_type": "markdown",
      "metadata": {
        "id": "view-in-github",
        "colab_type": "text"
      },
      "source": [
        "<a href=\"https://colab.research.google.com/github/zs856/Works-on-a-whim/blob/main/%E6%9F%A5%E8%87%AA%E5%B7%B1%E4%BB%8A%E5%B9%B4%E7%9A%84%E5%86%9C%E5%8E%86%E7%94%9F%E6%97%A5.ipynb\" target=\"_parent\"><img src=\"https://colab.research.google.com/assets/colab-badge.svg\" alt=\"Open In Colab\"/></a>"
      ]
    },
    {
      "cell_type": "code",
      "metadata": {
        "colab": {
          "base_uri": "https://localhost:8080/"
        },
        "id": "EjqlhP0ckgin",
        "outputId": "f2267c37-8296-47d1-b97e-ce376f6fd319"
      },
      "source": [
        "!pip install zhdate"
      ],
      "execution_count": 1,
      "outputs": [
        {
          "output_type": "stream",
          "text": [
            "Collecting zhdate\n",
            "  Downloading https://files.pythonhosted.org/packages/e5/5e/5ddf769b1ca31d1e997b94a390279da6892c99702593c1feedb93a70f508/zhdate-0.1-py3-none-any.whl\n",
            "Installing collected packages: zhdate\n",
            "Successfully installed zhdate-0.1\n"
          ],
          "name": "stdout"
        }
      ]
    },
    {
      "cell_type": "code",
      "metadata": {
        "colab": {
          "base_uri": "https://localhost:8080/"
        },
        "id": "Uc-RGoTRkh9z",
        "outputId": "6a471385-9858-4c33-f49c-9ab1bf4030a6"
      },
      "source": [
        "from zhdate import ZhDate\r\n",
        "from datetime import datetime\r\n",
        "# 当天的农历日期\r\n",
        "print(\"当前农历时间是：\",ZhDate.today())\r\n",
        "print(\"请按系统提示输入您的公历出生年月日\")\r\n",
        "year, month, day = None, None, None\r\n",
        "while True:\r\n",
        "  try:\r\n",
        "\r\n",
        "    print(\"请输入你的出生年（如1990）\")\r\n",
        "    year = int(input())\r\n",
        "    print(\"请输入你的出生月份（如1月出生则填写1）\")\r\n",
        "    month = int(input())\r\n",
        "    print(\"请输入你的出生日（如1号出生则填写1）\")\r\n",
        "    day = int(input())\r\n",
        "    break\r\n",
        "  except ValueError:\r\n",
        "    print(\"请输入数字\")\r\n",
        "try:\r\n",
        "  dt_date = datetime(year, month, day)\r\n",
        "  date = ZhDate.from_datetime(dt_date) # 从阳历日期转换成农历日期对象\r\n",
        "  current_year = datetime.now().year\r\n",
        "  print(\"您在农历：\",date,\"出生\")\r\n",
        "  chinese_birthday = ZhDate(current_year, date.lunar_month,date.lunar_day)\r\n",
        "  print(\"您今年的农历生日在：\",chinese_birthday)\r\n",
        "  print(\"即：\",date4.chinese())\r\n",
        "  print(current_year,\"年的公历生日是在\",chinese_birthday.to_datetime().strftime('%Y-%m-%d'),\"这天\")\r\n",
        "except Exception as e:\r\n",
        "  print(\"发生错误:\",e)\r\n",
        "  print(\"您输入的日期可能有误，请检查后重试\")\r\n"
      ],
      "execution_count": 45,
      "outputs": [
        {
          "output_type": "stream",
          "text": [
            "当前农历时间是： 农历2021年1月10日\n",
            "请按系统提示输入您的公历出生年月日\n",
            "请输入你的出生年（如1990）\n",
            "1990\n",
            "请输入你的出生月份（如1月出生则填写1）\n",
            "4\n",
            "请输入你的出生日（如1号出生则填写1）\n",
            "1\n",
            "您在农历： 农历1990年3月6日 出生\n",
            "您今年的农历生日在： 农历2021年3月6日\n",
            "即： 二零二一年正月二十七 辛丑年 (牛年)\n",
            "2021 年的公历生日是在 2021-04-17 这天\n"
          ],
          "name": "stdout"
        }
      ]
    }
  ]
}